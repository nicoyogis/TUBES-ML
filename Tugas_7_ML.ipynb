{
  "nbformat": 4,
  "nbformat_minor": 0,
  "metadata": {
    "colab": {
      "name": "Tugas_7_ML.ipynb",
      "provenance": [],
      "collapsed_sections": [],
      "include_colab_link": true
    },
    "kernelspec": {
      "display_name": "gputest",
      "language": "python",
      "name": "gputest"
    },
    "language_info": {
      "codemirror_mode": {
        "name": "ipython",
        "version": 3
      },
      "file_extension": ".py",
      "mimetype": "text/x-python",
      "name": "python",
      "nbconvert_exporter": "python",
      "pygments_lexer": "ipython3",
      "version": "3.9.7"
    }
  },
  "cells": [
    {
      "cell_type": "markdown",
      "metadata": {
        "id": "view-in-github",
        "colab_type": "text"
      },
      "source": [
        "<a href=\"https://colab.research.google.com/github/nicoyogis/TUBES-ML/blob/main/Tugas_7_ML.ipynb\" target=\"_parent\"><img src=\"https://colab.research.google.com/assets/colab-badge.svg\" alt=\"Open In Colab\"/></a>"
      ]
    },
    {
      "cell_type": "code",
      "metadata": {
        "id": "XdnRTOvSz6hf"
      },
      "source": [
        "import cv2\n",
        "import numpy as np\n",
        "import json\n",
        "import os  # Create directories, list files\n",
        "import zipfile\n",
        "import shutil\n",
        "import matplotlib.pyplot as plt\n",
        "import matplotlib.image as mping\n",
        "from tensorflow.keras.utils import to_categorical\n",
        "from tensorflow.keras.models import Sequential\n",
        "from tensorflow.keras.layers import InputLayer, Dense, Conv2D, MaxPool2D, Dropout, Flatten, BatchNormalization \n",
        "from tensorflow.keras.optimizers import Adam, RMSprop\n",
        "from tensorflow.keras.optimizers import SGD\n",
        "from sklearn.metrics import classification_report, confusion_matrix\n",
        "from mlxtend.plotting import plot_confusion_matrix\n",
        "import time"
      ],
      "execution_count": null,
      "outputs": []
    },
    {
      "cell_type": "code",
      "metadata": {
        "id": "ymi7XOK9z_Eq"
      },
      "source": [
        "input_folder=\"dataset\"\n",
        "base_dir=\"dataset_split\""
      ],
      "execution_count": null,
      "outputs": []
    },
    {
      "cell_type": "code",
      "metadata": {
        "colab": {
          "base_uri": "https://localhost:8080/"
        },
        "id": "hlO1EkwB0BSg",
        "outputId": "b2988cc0-c82f-4933-998f-20f8c91a922e"
      },
      "source": [
        "import splitfolders\n",
        "splitfolders.ratio(input= input_folder, output= base_dir, seed=1337, ratio=(0.8, 0.19, 0.01))"
      ],
      "execution_count": null,
      "outputs": [
        {
          "name": "stderr",
          "output_type": "stream",
          "text": [
            "Copying files: 2000 files [11:20,  2.94 files/s]\n"
          ]
        }
      ]
    },
    {
      "cell_type": "code",
      "metadata": {
        "id": "RmVMuGkr0Er4"
      },
      "source": [
        "import os\n",
        "Train = os.path.join(base_dir, 'Train')\n",
        "Test = os.path.join(base_dir, 'Test')\n",
        "Val = os.path.join(base_dir, 'Val')"
      ],
      "execution_count": null,
      "outputs": []
    },
    {
      "cell_type": "code",
      "metadata": {
        "id": "AnHbyGG7lM_w",
        "outputId": "14b4cc85-9992-4fdb-9815-cc72159b342d"
      },
      "source": [
        "file_train_cercospora = os.listdir(Train + \"/cercospora\")\n",
        "file_train_commonrust = os.listdir(Train + \"/commonrust\")\n",
        "file_train_normal = os.listdir(Train + \"/normal\")\n",
        "file_train_northernleaf = os.listdir(Train + \"/northernleaf\")\n",
        "\n",
        "\n",
        "file_val_cercospora   = os.listdir(Val + \"/cercospora\")\n",
        "file_val_commonrust   = os.listdir(Val + \"/commonrust\")\n",
        "file_val_normal   = os.listdir(Val + \"/normal\")\n",
        "file_val_northernleaf  = os.listdir(Val + \"/northernleaf\")\n",
        "\n",
        "file_test_cercospora = os.listdir(Test + \"/cercospora\")\n",
        "file_test_commonrust = os.listdir(Test + \"/commonrust\")\n",
        "file_test_normal = os.listdir(Test + \"/normal\")\n",
        "file_test_northernleaf = os.listdir(Test + \"/northernleaf\")\n",
        "\n",
        "\n",
        "print(\"total training cercospora: \" + str(len(file_train_cercospora)))\n",
        "print(\"total training commonrust : \" + str(len(file_train_commonrust)))\n",
        "print(\"total training normal : \" + str(len(file_train_normal)))\n",
        "print(\"total training northernleaf : \" + str(len(file_train_northernleaf)))\n",
        "\n",
        "print(\"total val cercospora : \" + str(len(file_val_cercospora)))\n",
        "print(\"total val commonrust : \" + str(len(file_val_commonrust)))\n",
        "print(\"total val normal  : \" + str(len(file_val_normal)))\n",
        "print(\"total val northernleaf  : \" + str(len(file_val_northernleaf)))\n",
        "\n",
        "print(\"total test cercospora : \" + str(len(file_test_cercospora)))\n",
        "print(\"total test commonrust : \" + str(len(file_test_commonrust)))\n",
        "print(\"total test normal : \" + str(len(file_test_normal)))\n",
        "print(\"total test northernleaf : \" + str(len(file_test_northernleaf)))"
      ],
      "execution_count": null,
      "outputs": [
        {
          "name": "stdout",
          "output_type": "stream",
          "text": [
            "total training cercospora: 400\n",
            "total training commonrust : 400\n",
            "total training normal : 400\n",
            "total training northernleaf : 400\n",
            "total val cercospora : 95\n",
            "total val commonrust : 95\n",
            "total val normal  : 95\n",
            "total val northernleaf  : 95\n",
            "total test cercospora : 5\n",
            "total test commonrust : 5\n",
            "total test normal : 5\n",
            "total test northernleaf : 5\n"
          ]
        }
      ]
    },
    {
      "cell_type": "code",
      "metadata": {
        "id": "8UulVCRf0KsK"
      },
      "source": [
        "# define generator\n",
        "from tensorflow.keras.preprocessing.image import ImageDataGenerator\n",
        "train_gen = ImageDataGenerator(\n",
        "    \n",
        "  #  shear_range = 0.2,\n",
        "  #  zoom_range=0.2,\n",
        "  #  horizontal_flip=True,\n",
        "  #  vertical_flip=True,\n",
        "  #  rotation_range=20,\n",
        "  #  width_shift_range=0.2,\n",
        "  #  height_shift_range=0.2,\n",
        "    rescale = 1./255,\n",
        "    featurewise_center=True,\n",
        "    featurewise_std_normalization=True,\n",
        "    rotation_range=20, \n",
        "    width_shift_range=0.1, \n",
        "    height_shift_range=0.1, \n",
        "    shear_range=0.2, \n",
        "    zoom_range=0.2, horizontal_flip=True, \n",
        "    fill_mode=\"nearest\"\n",
        "    \n",
        ")\n",
        "\n",
        "val_gen = ImageDataGenerator(rescale = 1./255)"
      ],
      "execution_count": null,
      "outputs": []
    },
    {
      "cell_type": "code",
      "metadata": {
        "id": "VMnXFNA_lM_3"
      },
      "source": [
        "test_gen = ImageDataGenerator(rescale = 1./255)"
      ],
      "execution_count": null,
      "outputs": []
    },
    {
      "cell_type": "code",
      "metadata": {
        "id": "5mE8x0tA0N4L"
      },
      "source": [
        "batch_size = 64"
      ],
      "execution_count": null,
      "outputs": []
    },
    {
      "cell_type": "code",
      "metadata": {
        "colab": {
          "base_uri": "https://localhost:8080/"
        },
        "id": "Y1HsL86Z0RNX",
        "outputId": "bfcc7756-641b-4086-da6a-d9ad6d455920"
      },
      "source": [
        "train_generator = train_gen.flow_from_directory(\n",
        "    Train,\n",
        "    target_size=(150, 150),\n",
        "    class_mode='categorical',\n",
        "    color_mode=\"rgb\",\n",
        "    batch_size=batch_size\n",
        ")\n",
        "\n",
        "validation_generator = val_gen.flow_from_directory(\n",
        "    Val,\n",
        "    target_size=(150,150),\n",
        "    class_mode='categorical',\n",
        "    color_mode=\"rgb\",\n",
        "    shuffle=False,\n",
        "    batch_size=batch_size\n",
        ")\n",
        "\n",
        "test_generator = test_gen.flow_from_directory(\n",
        "    Val,\n",
        "    target_size=(150,150),\n",
        "    class_mode='categorical',\n",
        "    color_mode=\"rgb\",\n",
        "    shuffle=False,\n",
        "    batch_size=batch_size\n",
        ")"
      ],
      "execution_count": null,
      "outputs": [
        {
          "name": "stdout",
          "output_type": "stream",
          "text": [
            "Found 1600 images belonging to 4 classes.\n",
            "Found 380 images belonging to 4 classes.\n",
            "Found 380 images belonging to 4 classes.\n"
          ]
        }
      ]
    },
    {
      "cell_type": "code",
      "metadata": {
        "colab": {
          "base_uri": "https://localhost:8080/"
        },
        "id": "vqprkoVs0TS_",
        "outputId": "a882cdb8-e1d5-4619-99b0-b28beac63031"
      },
      "source": [
        "train_generator.class_indices\n",
        "validation_generator.class_indices"
      ],
      "execution_count": null,
      "outputs": [
        {
          "data": {
            "text/plain": [
              "{'cercospora': 0, 'commonrust': 1, 'normal': 2, 'northernleaf': 3}"
            ]
          },
          "execution_count": 9,
          "metadata": {},
          "output_type": "execute_result"
        }
      ]
    },
    {
      "cell_type": "code",
      "metadata": {
        "id": "ja_MrAzU52Lu"
      },
      "source": [
        "# Feature Extraction Layer\n",
        "model2 = Sequential()\n",
        "\n",
        "model2.add(InputLayer(input_shape=[150,150,3]))\n",
        "\n",
        "model2.add(Conv2D(filters=8, kernel_size=3, strides=1,  padding='same', activation='relu'))\n",
        "model2.add(BatchNormalization())\n",
        "model2.add(MaxPool2D(pool_size=2, padding='same'))\n",
        "\n",
        "\n",
        "model2.add(Conv2D(filters=16, kernel_size=3, strides=1,  padding='same', activation='relu'))\n",
        "model2.add(BatchNormalization())\n",
        "model2.add(MaxPool2D(pool_size=2, padding='same'))\n",
        "\n",
        "\n",
        "model2.add(Conv2D(filters=32, kernel_size=3, strides=1, padding='same', activation='relu'))\n",
        "model2.add(BatchNormalization())\n",
        "model2.add(MaxPool2D(pool_size=2, padding='same'))\n",
        "\n",
        "\n",
        "model2.add(Conv2D(filters=64, kernel_size=3, strides=1, padding='same', activation='relu'))\n",
        "model2.add(BatchNormalization())\n",
        "model2.add(MaxPool2D(pool_size=2, padding='same'))\n",
        "\n",
        "\n",
        "model2.add(Conv2D(filters=128, kernel_size=3, strides=1, padding='same', activation='relu'))\n",
        "model2.add(BatchNormalization())\n",
        "model2.add(MaxPool2D(pool_size=2, padding='same'))\n",
        "\n",
        "\n",
        "model2.add(Conv2D(filters=256, kernel_size=3, strides=1, padding='same', activation='relu'))\n",
        "model2.add(BatchNormalization())\n",
        "model2.add(MaxPool2D(pool_size=2, padding='same'))\n",
        "\n"
      ],
      "execution_count": null,
      "outputs": []
    },
    {
      "cell_type": "code",
      "metadata": {
        "id": "YpsiXXcUQXMB"
      },
      "source": [
        "model2.add(Flatten())"
      ],
      "execution_count": null,
      "outputs": []
    },
    {
      "cell_type": "code",
      "metadata": {
        "id": "MZQWB6IGQ885"
      },
      "source": [
        "# Fully Connected Layer\n",
        "model2.add(Dense(128, activation='relu')) #hidden\n",
        "model2.add(Dropout(0.5))\n",
        "model2.add(Dense(256, activation='relu'))\n",
        "model2.add(Dropout(0.5))\n",
        "model2.add(Dense(4, activation='softmax'))"
      ],
      "execution_count": null,
      "outputs": []
    },
    {
      "cell_type": "code",
      "metadata": {
        "id": "xFaWoTz-QYQg"
      },
      "source": [
        "# Compile model 1\n",
        "model2.compile(optimizer= Adam(learning_rate=0.0001),\n",
        "              loss='categorical_crossentropy', \n",
        "              metrics=['accuracy'])"
      ],
      "execution_count": null,
      "outputs": []
    },
    {
      "cell_type": "code",
      "metadata": {
        "colab": {
          "base_uri": "https://localhost:8080/"
        },
        "id": "XzeEOhFmQdeM",
        "outputId": "867e7506-f416-4a06-f2bb-4cd422ee8a4a"
      },
      "source": [
        "# Print model summary\n",
        "print(model2.summary())"
      ],
      "execution_count": null,
      "outputs": [
        {
          "name": "stdout",
          "output_type": "stream",
          "text": [
            "Model: \"sequential_1\"\n",
            "_________________________________________________________________\n",
            " Layer (type)                Output Shape              Param #   \n",
            "=================================================================\n",
            " conv2d_5 (Conv2D)           (None, 150, 150, 8)       224       \n",
            "                                                                 \n",
            " batch_normalization_5 (Batc  (None, 150, 150, 8)      32        \n",
            " hNormalization)                                                 \n",
            "                                                                 \n",
            " max_pooling2d_5 (MaxPooling  (None, 75, 75, 8)        0         \n",
            " 2D)                                                             \n",
            "                                                                 \n",
            " conv2d_6 (Conv2D)           (None, 75, 75, 16)        1168      \n",
            "                                                                 \n",
            " batch_normalization_6 (Batc  (None, 75, 75, 16)       64        \n",
            " hNormalization)                                                 \n",
            "                                                                 \n",
            " max_pooling2d_6 (MaxPooling  (None, 38, 38, 16)       0         \n",
            " 2D)                                                             \n",
            "                                                                 \n",
            " conv2d_7 (Conv2D)           (None, 38, 38, 32)        4640      \n",
            "                                                                 \n",
            " batch_normalization_7 (Batc  (None, 38, 38, 32)       128       \n",
            " hNormalization)                                                 \n",
            "                                                                 \n",
            " max_pooling2d_7 (MaxPooling  (None, 19, 19, 32)       0         \n",
            " 2D)                                                             \n",
            "                                                                 \n",
            " conv2d_8 (Conv2D)           (None, 19, 19, 64)        18496     \n",
            "                                                                 \n",
            " batch_normalization_8 (Batc  (None, 19, 19, 64)       256       \n",
            " hNormalization)                                                 \n",
            "                                                                 \n",
            " max_pooling2d_8 (MaxPooling  (None, 10, 10, 64)       0         \n",
            " 2D)                                                             \n",
            "                                                                 \n",
            " conv2d_9 (Conv2D)           (None, 10, 10, 128)       73856     \n",
            "                                                                 \n",
            " batch_normalization_9 (Batc  (None, 10, 10, 128)      512       \n",
            " hNormalization)                                                 \n",
            "                                                                 \n",
            " max_pooling2d_9 (MaxPooling  (None, 5, 5, 128)        0         \n",
            " 2D)                                                             \n",
            "                                                                 \n",
            " conv2d_10 (Conv2D)          (None, 5, 5, 256)         295168    \n",
            "                                                                 \n",
            " batch_normalization_10 (Bat  (None, 5, 5, 256)        1024      \n",
            " chNormalization)                                                \n",
            "                                                                 \n",
            " max_pooling2d_10 (MaxPoolin  (None, 3, 3, 256)        0         \n",
            " g2D)                                                            \n",
            "                                                                 \n",
            " flatten_1 (Flatten)         (None, 2304)              0         \n",
            "                                                                 \n",
            " dense_3 (Dense)             (None, 128)               295040    \n",
            "                                                                 \n",
            " dropout_1 (Dropout)         (None, 128)               0         \n",
            "                                                                 \n",
            " dense_4 (Dense)             (None, 256)               33024     \n",
            "                                                                 \n",
            " dropout_2 (Dropout)         (None, 256)               0         \n",
            "                                                                 \n",
            " dense_5 (Dense)             (None, 4)                 1028      \n",
            "                                                                 \n",
            "=================================================================\n",
            "Total params: 724,660\n",
            "Trainable params: 723,652\n",
            "Non-trainable params: 1,008\n",
            "_________________________________________________________________\n",
            "None\n"
          ]
        }
      ]
    },
    {
      "cell_type": "code",
      "metadata": {
        "colab": {
          "base_uri": "https://localhost:8080/"
        },
        "id": "LR0Bgq4TQnSH",
        "outputId": "72253e3c-d88d-4c74-8d84-f0d99be72361"
      },
      "source": [
        "H2 = model2.fit(train_generator, epochs=100, validation_data = validation_generator,validation_steps = len(validation_generator))"
      ],
      "execution_count": null,
      "outputs": [
        {
          "name": "stderr",
          "output_type": "stream",
          "text": [
            "C:\\Users\\ZALFA NATANIA A\\anaconda3\\envs\\gputest\\lib\\site-packages\\keras_preprocessing\\image\\image_data_generator.py:720: UserWarning: This ImageDataGenerator specifies `featurewise_center`, but it hasn't been fit on any training data. Fit it first by calling `.fit(numpy_data)`.\n",
            "  warnings.warn('This ImageDataGenerator specifies '\n",
            "C:\\Users\\ZALFA NATANIA A\\anaconda3\\envs\\gputest\\lib\\site-packages\\keras_preprocessing\\image\\image_data_generator.py:728: UserWarning: This ImageDataGenerator specifies `featurewise_std_normalization`, but it hasn't been fit on any training data. Fit it first by calling `.fit(numpy_data)`.\n",
            "  warnings.warn('This ImageDataGenerator specifies '\n"
          ]
        },
        {
          "name": "stdout",
          "output_type": "stream",
          "text": [
            "Epoch 1/100\n",
            "25/25 [==============================] - 11s 388ms/step - loss: 1.6443 - accuracy: 0.4000 - val_loss: 1.4014 - val_accuracy: 0.2500\n",
            "Epoch 2/100\n",
            "25/25 [==============================] - 9s 369ms/step - loss: 0.9658 - accuracy: 0.6000 - val_loss: 1.4900 - val_accuracy: 0.2500\n",
            "Epoch 3/100\n",
            "25/25 [==============================] - 10s 378ms/step - loss: 0.7885 - accuracy: 0.6731 - val_loss: 1.6912 - val_accuracy: 0.2500\n",
            "Epoch 4/100\n",
            "25/25 [==============================] - 10s 395ms/step - loss: 0.6892 - accuracy: 0.7181 - val_loss: 1.9734 - val_accuracy: 0.2500\n",
            "Epoch 5/100\n",
            "25/25 [==============================] - 10s 408ms/step - loss: 0.5707 - accuracy: 0.7594 - val_loss: 2.1166 - val_accuracy: 0.2500\n",
            "Epoch 6/100\n",
            "25/25 [==============================] - 11s 426ms/step - loss: 0.5523 - accuracy: 0.7750 - val_loss: 2.3098 - val_accuracy: 0.2500\n",
            "Epoch 7/100\n",
            "25/25 [==============================] - 11s 426ms/step - loss: 0.4956 - accuracy: 0.7994 - val_loss: 2.3913 - val_accuracy: 0.2579\n",
            "Epoch 8/100\n",
            "25/25 [==============================] - 11s 434ms/step - loss: 0.4836 - accuracy: 0.7912 - val_loss: 2.4153 - val_accuracy: 0.3053\n",
            "Epoch 9/100\n",
            "25/25 [==============================] - 11s 426ms/step - loss: 0.4645 - accuracy: 0.8062 - val_loss: 2.3354 - val_accuracy: 0.4316\n",
            "Epoch 10/100\n",
            "25/25 [==============================] - 10s 404ms/step - loss: 0.4303 - accuracy: 0.8294 - val_loss: 2.4607 - val_accuracy: 0.3553\n",
            "Epoch 11/100\n",
            "25/25 [==============================] - 11s 435ms/step - loss: 0.3899 - accuracy: 0.8319 - val_loss: 2.7152 - val_accuracy: 0.3237\n",
            "Epoch 12/100\n",
            "25/25 [==============================] - 11s 423ms/step - loss: 0.3794 - accuracy: 0.8456 - val_loss: 2.8001 - val_accuracy: 0.3079\n",
            "Epoch 13/100\n",
            "25/25 [==============================] - 11s 426ms/step - loss: 0.3455 - accuracy: 0.8587 - val_loss: 2.0563 - val_accuracy: 0.4026\n",
            "Epoch 14/100\n",
            "25/25 [==============================] - 11s 434ms/step - loss: 0.3602 - accuracy: 0.8475 - val_loss: 2.4822 - val_accuracy: 0.3237\n",
            "Epoch 15/100\n",
            "25/25 [==============================] - 11s 430ms/step - loss: 0.3461 - accuracy: 0.8612 - val_loss: 1.6567 - val_accuracy: 0.4737\n",
            "Epoch 16/100\n",
            "25/25 [==============================] - 11s 435ms/step - loss: 0.3152 - accuracy: 0.8750 - val_loss: 1.8201 - val_accuracy: 0.4526\n",
            "Epoch 17/100\n",
            "25/25 [==============================] - 11s 444ms/step - loss: 0.2952 - accuracy: 0.8694 - val_loss: 1.3385 - val_accuracy: 0.5632\n",
            "Epoch 18/100\n",
            "25/25 [==============================] - 11s 435ms/step - loss: 0.3193 - accuracy: 0.8687 - val_loss: 1.0116 - val_accuracy: 0.6289\n",
            "Epoch 19/100\n",
            "25/25 [==============================] - 11s 444ms/step - loss: 0.3141 - accuracy: 0.8750 - val_loss: 0.8215 - val_accuracy: 0.6974\n",
            "Epoch 20/100\n",
            "25/25 [==============================] - 11s 433ms/step - loss: 0.2621 - accuracy: 0.9006 - val_loss: 0.4913 - val_accuracy: 0.7921\n",
            "Epoch 21/100\n",
            "25/25 [==============================] - 11s 436ms/step - loss: 0.2844 - accuracy: 0.8931 - val_loss: 0.4897 - val_accuracy: 0.8026\n",
            "Epoch 22/100\n",
            "25/25 [==============================] - 11s 436ms/step - loss: 0.2403 - accuracy: 0.9150 - val_loss: 0.5130 - val_accuracy: 0.8000\n",
            "Epoch 23/100\n",
            "25/25 [==============================] - 11s 456ms/step - loss: 0.2511 - accuracy: 0.8925 - val_loss: 0.3336 - val_accuracy: 0.8711\n",
            "Epoch 24/100\n",
            "25/25 [==============================] - 11s 441ms/step - loss: 0.2572 - accuracy: 0.8950 - val_loss: 0.3373 - val_accuracy: 0.8658\n",
            "Epoch 25/100\n",
            "25/25 [==============================] - 11s 425ms/step - loss: 0.2498 - accuracy: 0.8906 - val_loss: 0.3733 - val_accuracy: 0.8553\n",
            "Epoch 26/100\n",
            "25/25 [==============================] - 11s 458ms/step - loss: 0.2234 - accuracy: 0.9087 - val_loss: 0.2686 - val_accuracy: 0.9026\n",
            "Epoch 27/100\n",
            "25/25 [==============================] - 10s 404ms/step - loss: 0.2231 - accuracy: 0.9156 - val_loss: 0.1915 - val_accuracy: 0.9237\n",
            "Epoch 28/100\n",
            "25/25 [==============================] - 11s 416ms/step - loss: 0.2276 - accuracy: 0.9087 - val_loss: 0.2556 - val_accuracy: 0.9132\n",
            "Epoch 29/100\n",
            "25/25 [==============================] - 10s 414ms/step - loss: 0.2229 - accuracy: 0.9131 - val_loss: 0.2532 - val_accuracy: 0.9158\n",
            "Epoch 30/100\n",
            "25/25 [==============================] - 10s 415ms/step - loss: 0.2085 - accuracy: 0.9119 - val_loss: 0.1911 - val_accuracy: 0.9263\n",
            "Epoch 31/100\n",
            "25/25 [==============================] - 10s 408ms/step - loss: 0.2134 - accuracy: 0.9150 - val_loss: 0.2404 - val_accuracy: 0.9211\n",
            "Epoch 32/100\n",
            "25/25 [==============================] - 11s 425ms/step - loss: 0.2053 - accuracy: 0.9169 - val_loss: 0.2354 - val_accuracy: 0.9237\n",
            "Epoch 33/100\n",
            "25/25 [==============================] - 11s 428ms/step - loss: 0.2043 - accuracy: 0.9187 - val_loss: 0.3011 - val_accuracy: 0.9053\n",
            "Epoch 34/100\n",
            "25/25 [==============================] - 11s 441ms/step - loss: 0.2125 - accuracy: 0.9194 - val_loss: 0.2484 - val_accuracy: 0.9158\n",
            "Epoch 35/100\n",
            "25/25 [==============================] - 13s 532ms/step - loss: 0.1714 - accuracy: 0.9306 - val_loss: 0.2428 - val_accuracy: 0.9211\n",
            "Epoch 36/100\n",
            "25/25 [==============================] - 11s 439ms/step - loss: 0.1795 - accuracy: 0.9287 - val_loss: 0.3090 - val_accuracy: 0.8895\n",
            "Epoch 37/100\n",
            "25/25 [==============================] - 10s 407ms/step - loss: 0.1896 - accuracy: 0.9294 - val_loss: 0.2721 - val_accuracy: 0.8947\n",
            "Epoch 38/100\n",
            "25/25 [==============================] - 10s 410ms/step - loss: 0.1791 - accuracy: 0.9269 - val_loss: 0.3396 - val_accuracy: 0.8816\n",
            "Epoch 39/100\n",
            "25/25 [==============================] - 10s 413ms/step - loss: 0.1679 - accuracy: 0.9350 - val_loss: 0.3020 - val_accuracy: 0.8842\n",
            "Epoch 40/100\n",
            "25/25 [==============================] - 10s 413ms/step - loss: 0.1573 - accuracy: 0.9381 - val_loss: 0.2434 - val_accuracy: 0.9053\n",
            "Epoch 41/100\n",
            "25/25 [==============================] - 10s 402ms/step - loss: 0.1586 - accuracy: 0.9388 - val_loss: 0.2403 - val_accuracy: 0.9079\n",
            "Epoch 42/100\n",
            "25/25 [==============================] - 10s 394ms/step - loss: 0.1397 - accuracy: 0.9431 - val_loss: 0.3159 - val_accuracy: 0.8895\n",
            "Epoch 43/100\n",
            "25/25 [==============================] - 10s 401ms/step - loss: 0.1410 - accuracy: 0.9444 - val_loss: 0.3225 - val_accuracy: 0.8737\n",
            "Epoch 44/100\n",
            "25/25 [==============================] - 10s 399ms/step - loss: 0.1699 - accuracy: 0.9325 - val_loss: 0.3826 - val_accuracy: 0.8868\n",
            "Epoch 45/100\n",
            "25/25 [==============================] - 10s 396ms/step - loss: 0.1642 - accuracy: 0.9356 - val_loss: 0.2905 - val_accuracy: 0.8947\n",
            "Epoch 46/100\n",
            "25/25 [==============================] - 10s 393ms/step - loss: 0.1458 - accuracy: 0.9475 - val_loss: 0.2243 - val_accuracy: 0.9237\n",
            "Epoch 47/100\n",
            "25/25 [==============================] - 10s 394ms/step - loss: 0.1327 - accuracy: 0.9494 - val_loss: 0.1973 - val_accuracy: 0.9395\n",
            "Epoch 48/100\n",
            "25/25 [==============================] - 10s 385ms/step - loss: 0.1353 - accuracy: 0.9500 - val_loss: 0.3464 - val_accuracy: 0.9079\n",
            "Epoch 49/100\n",
            "25/25 [==============================] - 10s 380ms/step - loss: 0.1166 - accuracy: 0.9588 - val_loss: 0.3360 - val_accuracy: 0.9026\n",
            "Epoch 50/100\n",
            "25/25 [==============================] - 10s 387ms/step - loss: 0.1357 - accuracy: 0.9481 - val_loss: 0.1630 - val_accuracy: 0.9342\n",
            "Epoch 51/100\n",
            "25/25 [==============================] - 10s 383ms/step - loss: 0.1533 - accuracy: 0.9400 - val_loss: 0.1662 - val_accuracy: 0.9316\n",
            "Epoch 52/100\n",
            "25/25 [==============================] - 10s 397ms/step - loss: 0.1250 - accuracy: 0.9569 - val_loss: 0.1997 - val_accuracy: 0.9237\n",
            "Epoch 53/100\n",
            "25/25 [==============================] - 10s 383ms/step - loss: 0.1393 - accuracy: 0.9581 - val_loss: 0.3786 - val_accuracy: 0.8868\n",
            "Epoch 54/100\n",
            "25/25 [==============================] - 10s 377ms/step - loss: 0.1458 - accuracy: 0.9500 - val_loss: 0.2632 - val_accuracy: 0.9053\n",
            "Epoch 55/100\n",
            "25/25 [==============================] - 9s 374ms/step - loss: 0.1385 - accuracy: 0.9544 - val_loss: 0.3037 - val_accuracy: 0.8947\n",
            "Epoch 56/100\n",
            "25/25 [==============================] - 9s 368ms/step - loss: 0.1198 - accuracy: 0.9506 - val_loss: 0.2100 - val_accuracy: 0.9184\n",
            "Epoch 57/100\n"
          ]
        },
        {
          "name": "stdout",
          "output_type": "stream",
          "text": [
            "25/25 [==============================] - 9s 367ms/step - loss: 0.1173 - accuracy: 0.9513 - val_loss: 0.2008 - val_accuracy: 0.9368\n",
            "Epoch 58/100\n",
            "25/25 [==============================] - 9s 372ms/step - loss: 0.1229 - accuracy: 0.9550 - val_loss: 0.2988 - val_accuracy: 0.9053\n",
            "Epoch 59/100\n",
            "25/25 [==============================] - 9s 372ms/step - loss: 0.1181 - accuracy: 0.9613 - val_loss: 0.2225 - val_accuracy: 0.9289\n",
            "Epoch 60/100\n",
            "25/25 [==============================] - 9s 361ms/step - loss: 0.1123 - accuracy: 0.9569 - val_loss: 0.2248 - val_accuracy: 0.9237\n",
            "Epoch 61/100\n",
            "25/25 [==============================] - 9s 362ms/step - loss: 0.1433 - accuracy: 0.9506 - val_loss: 0.1410 - val_accuracy: 0.9447\n",
            "Epoch 62/100\n",
            "25/25 [==============================] - 9s 364ms/step - loss: 0.1032 - accuracy: 0.9619 - val_loss: 0.2106 - val_accuracy: 0.9342\n",
            "Epoch 63/100\n",
            "25/25 [==============================] - 9s 358ms/step - loss: 0.1138 - accuracy: 0.9625 - val_loss: 0.1850 - val_accuracy: 0.9342\n",
            "Epoch 64/100\n",
            "25/25 [==============================] - 9s 364ms/step - loss: 0.1148 - accuracy: 0.9619 - val_loss: 0.1896 - val_accuracy: 0.9395\n",
            "Epoch 65/100\n",
            "25/25 [==============================] - 10s 389ms/step - loss: 0.1098 - accuracy: 0.9575 - val_loss: 0.1888 - val_accuracy: 0.9447\n",
            "Epoch 66/100\n",
            "25/25 [==============================] - 9s 355ms/step - loss: 0.1005 - accuracy: 0.9581 - val_loss: 0.2151 - val_accuracy: 0.9316\n",
            "Epoch 67/100\n",
            "25/25 [==============================] - 9s 357ms/step - loss: 0.1042 - accuracy: 0.9600 - val_loss: 0.2324 - val_accuracy: 0.9342\n",
            "Epoch 68/100\n",
            "25/25 [==============================] - 9s 359ms/step - loss: 0.1285 - accuracy: 0.9581 - val_loss: 0.1972 - val_accuracy: 0.9447\n",
            "Epoch 69/100\n",
            "25/25 [==============================] - 9s 364ms/step - loss: 0.1022 - accuracy: 0.9619 - val_loss: 0.1936 - val_accuracy: 0.9421\n",
            "Epoch 70/100\n",
            "25/25 [==============================] - 9s 358ms/step - loss: 0.1121 - accuracy: 0.9588 - val_loss: 0.1656 - val_accuracy: 0.9605\n",
            "Epoch 71/100\n",
            "25/25 [==============================] - 9s 354ms/step - loss: 0.1124 - accuracy: 0.9606 - val_loss: 0.1631 - val_accuracy: 0.9553\n",
            "Epoch 72/100\n",
            "25/25 [==============================] - 9s 356ms/step - loss: 0.0980 - accuracy: 0.9631 - val_loss: 0.1925 - val_accuracy: 0.9395\n",
            "Epoch 73/100\n",
            "25/25 [==============================] - 9s 354ms/step - loss: 0.1190 - accuracy: 0.9588 - val_loss: 0.1837 - val_accuracy: 0.9421\n",
            "Epoch 74/100\n",
            "25/25 [==============================] - 9s 360ms/step - loss: 0.1061 - accuracy: 0.9613 - val_loss: 0.2247 - val_accuracy: 0.9368\n",
            "Epoch 75/100\n",
            "25/25 [==============================] - 9s 363ms/step - loss: 0.0952 - accuracy: 0.9625 - val_loss: 0.2490 - val_accuracy: 0.9289\n",
            "Epoch 76/100\n",
            "25/25 [==============================] - 9s 358ms/step - loss: 0.1076 - accuracy: 0.9631 - val_loss: 0.1589 - val_accuracy: 0.9474\n",
            "Epoch 77/100\n",
            "25/25 [==============================] - 9s 365ms/step - loss: 0.1045 - accuracy: 0.9600 - val_loss: 0.4354 - val_accuracy: 0.8711\n",
            "Epoch 78/100\n",
            "25/25 [==============================] - 9s 358ms/step - loss: 0.0914 - accuracy: 0.9656 - val_loss: 0.1511 - val_accuracy: 0.9500\n",
            "Epoch 79/100\n",
            "25/25 [==============================] - 9s 355ms/step - loss: 0.1003 - accuracy: 0.9656 - val_loss: 0.5028 - val_accuracy: 0.8658\n",
            "Epoch 80/100\n",
            "25/25 [==============================] - 9s 359ms/step - loss: 0.1044 - accuracy: 0.9638 - val_loss: 0.2034 - val_accuracy: 0.9395\n",
            "Epoch 81/100\n",
            "25/25 [==============================] - 9s 359ms/step - loss: 0.0991 - accuracy: 0.9675 - val_loss: 0.1804 - val_accuracy: 0.9316\n",
            "Epoch 82/100\n",
            "25/25 [==============================] - 9s 364ms/step - loss: 0.1167 - accuracy: 0.9625 - val_loss: 0.1813 - val_accuracy: 0.9316\n",
            "Epoch 83/100\n",
            "25/25 [==============================] - 9s 363ms/step - loss: 0.0944 - accuracy: 0.9669 - val_loss: 0.1728 - val_accuracy: 0.9553\n",
            "Epoch 84/100\n",
            "25/25 [==============================] - 9s 360ms/step - loss: 0.0819 - accuracy: 0.9688 - val_loss: 0.2825 - val_accuracy: 0.9158\n",
            "Epoch 85/100\n",
            "25/25 [==============================] - 9s 361ms/step - loss: 0.1052 - accuracy: 0.9650 - val_loss: 0.6192 - val_accuracy: 0.8500\n",
            "Epoch 86/100\n",
            "25/25 [==============================] - 9s 357ms/step - loss: 0.0819 - accuracy: 0.9706 - val_loss: 0.1479 - val_accuracy: 0.9553\n",
            "Epoch 87/100\n",
            "25/25 [==============================] - 9s 357ms/step - loss: 0.0961 - accuracy: 0.9669 - val_loss: 0.2114 - val_accuracy: 0.9447\n",
            "Epoch 88/100\n",
            "25/25 [==============================] - 9s 358ms/step - loss: 0.1093 - accuracy: 0.9581 - val_loss: 0.3238 - val_accuracy: 0.9000\n",
            "Epoch 89/100\n",
            "25/25 [==============================] - 9s 358ms/step - loss: 0.1013 - accuracy: 0.9625 - val_loss: 0.1718 - val_accuracy: 0.9447\n",
            "Epoch 90/100\n",
            "25/25 [==============================] - 9s 368ms/step - loss: 0.0940 - accuracy: 0.9669 - val_loss: 0.1389 - val_accuracy: 0.9500\n",
            "Epoch 91/100\n",
            "25/25 [==============================] - 9s 361ms/step - loss: 0.0777 - accuracy: 0.9700 - val_loss: 0.1784 - val_accuracy: 0.9474\n",
            "Epoch 92/100\n",
            "25/25 [==============================] - 9s 371ms/step - loss: 0.0787 - accuracy: 0.9675 - val_loss: 0.1872 - val_accuracy: 0.9447\n",
            "Epoch 93/100\n",
            "25/25 [==============================] - 9s 355ms/step - loss: 0.0832 - accuracy: 0.9694 - val_loss: 0.2573 - val_accuracy: 0.9316\n",
            "Epoch 94/100\n",
            "25/25 [==============================] - 9s 357ms/step - loss: 0.0902 - accuracy: 0.9656 - val_loss: 0.2256 - val_accuracy: 0.9342\n",
            "Epoch 95/100\n",
            "25/25 [==============================] - 9s 371ms/step - loss: 0.0756 - accuracy: 0.9725 - val_loss: 0.2340 - val_accuracy: 0.9316\n",
            "Epoch 96/100\n",
            "25/25 [==============================] - 9s 356ms/step - loss: 0.1016 - accuracy: 0.9663 - val_loss: 0.2248 - val_accuracy: 0.9289\n",
            "Epoch 97/100\n",
            "25/25 [==============================] - 9s 360ms/step - loss: 0.0687 - accuracy: 0.9762 - val_loss: 0.2494 - val_accuracy: 0.9289\n",
            "Epoch 98/100\n",
            "25/25 [==============================] - 9s 366ms/step - loss: 0.0712 - accuracy: 0.9756 - val_loss: 0.1599 - val_accuracy: 0.9500\n",
            "Epoch 99/100\n",
            "25/25 [==============================] - 9s 363ms/step - loss: 0.0787 - accuracy: 0.9700 - val_loss: 0.1365 - val_accuracy: 0.9500\n",
            "Epoch 100/100\n",
            "25/25 [==============================] - 9s 364ms/step - loss: 0.0868 - accuracy: 0.9694 - val_loss: 0.1721 - val_accuracy: 0.9553\n"
          ]
        }
      ]
    },
    {
      "cell_type": "code",
      "metadata": {
        "id": "E-AIOT5Id5WT"
      },
      "source": [
        "model2.save(\"model2.h5\")"
      ],
      "execution_count": null,
      "outputs": []
    },
    {
      "cell_type": "code",
      "metadata": {
        "colab": {
          "base_uri": "https://localhost:8080/",
          "height": 421
        },
        "id": "ysRYHgmgeHwe",
        "outputId": "73b4383c-d18e-48f4-a37b-63a929ee3e44"
      },
      "source": [
        "#plot model 1\n",
        "fig, (plt1, plt2) = plt.subplots(1,2, figsize=(20,6)) #buat bikin subplot\n",
        "\n",
        "plt1.figsize=(10,8)\n",
        "plt1.plot(np.arange(0, 100), H2.history[\"loss\"], label=\"loss\")\n",
        "plt1.plot(np.arange(0, 100), H2.history[\"val_loss\"], label=\"val_loss\")\n",
        "plt1.set_title(\"Loss Result Plot\")\n",
        "plt1.set_xlabel(\"Epoch #\")\n",
        "plt1.set_ylabel(\"Loss\")\n",
        "plt1.legend()\n",
        "\n",
        "plt2.figsize=(10,8)\n",
        "plt2.plot(np.arange(0, 100), H2.history[\"accuracy\"], label=\"acc\")\n",
        "plt2.plot(np.arange(0, 100), H2.history[\"val_accuracy\"], label=\"val_acc\")\n",
        "plt2.set_title(\"Acc Result Plot\")\n",
        "plt2.set_xlabel(\"Epoch #\")\n",
        "plt2.set_ylabel(\"Acc\")\n",
        "plt2.legend()"
      ],
      "execution_count": null,
      "outputs": [
        {
          "data": {
            "text/plain": [
              "<matplotlib.legend.Legend at 0x1a99318ab20>"
            ]
          },
          "execution_count": 29,
          "metadata": {},
          "output_type": "execute_result"
        },
        {
          "data": {
            "image/png": "[encoded data removed]",
            "text/plain": [
              "<Figure size 1440x432 with 2 Axes>"
            ]
          },
          "metadata": {
            "needs_background": "light"
          },
          "output_type": "display_data"
        }
      ]
    },
    {
      "cell_type": "code",
      "metadata": {
        "colab": {
          "base_uri": "https://localhost:8080/"
        },
        "id": "v_5pY4MYeMDe",
        "outputId": "0d3c0f2f-9412-4452-c9b7-db551a5606d2"
      },
      "source": [
        "#Evaluasi menggunakan classification report\n",
        "%matplotlib inline\n",
        "\n",
        "import matplotlib.pyplot as plt\n",
        "import numpy as np\n",
        "from keras.models import load_model\n",
        "from sklearn.metrics import classification_report, confusion_matrix\n",
        "\n",
        "\n",
        "ypred = model2.predict(validation_generator)\n",
        "prediction2 = np.argmax(ypred, axis=1)\n",
        "print(classification_report(validation_generator.classes, prediction2))"
      ],
      "execution_count": null,
      "outputs": [
        {
          "name": "stdout",
          "output_type": "stream",
          "text": [
            "              precision    recall  f1-score   support\n",
            "\n",
            "           0       0.86      0.99      0.92        95\n",
            "           1       1.00      1.00      1.00        95\n",
            "           2       0.99      1.00      0.99        95\n",
            "           3       0.99      0.83      0.90        95\n",
            "\n",
            "    accuracy                           0.96       380\n",
            "   macro avg       0.96      0.96      0.95       380\n",
            "weighted avg       0.96      0.96      0.95       380\n",
            "\n"
          ]
        }
      ]
    },
    {
      "cell_type": "code",
      "metadata": {
        "colab": {
          "base_uri": "https://localhost:8080/",
          "height": 380
        },
        "id": "j9yNvlwyeXeB",
        "outputId": "0770efad-d0f1-49af-f8ca-e64b027a1131"
      },
      "source": [
        "#Evaluasi menggunakan confusion matrix\n",
        "\n",
        "import itertools\n",
        "def plot_confusion_matrix(cm, classes,\n",
        "                          normalize=False,\n",
        "                          title='Confusion matrix',\n",
        "                          cmap=plt.cm.Blues):\n",
        "    if normalize:\n",
        "        cm = cm.astype('float') / cm.sum(axis=1)[:, np.newaxis]\n",
        "        print(\"Normalized confusion matrix\")\n",
        "    else:\n",
        "        print('Confusion matrix, without normalization')\n",
        "\n",
        "    print(cm)\n",
        "\n",
        "    plt.imshow(cm, interpolation='nearest', cmap=cmap)\n",
        "    plt.title(title)\n",
        "    plt.colorbar()\n",
        "    tick_marks = np.arange(len(classes))\n",
        "    plt.xticks(tick_marks, classes, rotation=45)\n",
        "    plt.yticks(tick_marks, classes)\n",
        "\n",
        "    fmt = '.2f' if normalize else 'd'\n",
        "    thresh = cm.max() / 2.\n",
        "    for i, j in itertools.product(range(cm.shape[0]), range(cm.shape[1])):\n",
        "        plt.text(j, i, format(cm[i, j], fmt),\n",
        "                 horizontalalignment=\"center\",\n",
        "                 color=\"white\" if cm[i, j] > thresh else \"black\")\n",
        "\n",
        "    plt.tight_layout()\n",
        "    plt.ylabel('Actual')\n",
        "    plt.xlabel('Predicted')\n",
        "\n",
        "cnf_matrix=confusion_matrix(validation_generator.classes,prediction2)\n",
        "plot_confusion_matrix(cnf_matrix, classes=validation_generator.class_indices)"
      ],
      "execution_count": null,
      "outputs": [
        {
          "name": "stdout",
          "output_type": "stream",
          "text": [
            "Confusion matrix, without normalization\n",
            "[[94  0  0  1]\n",
            " [ 0 95  0  0]\n",
            " [ 0  0 95  0]\n",
            " [15  0  1 79]]\n"
          ]
        },
        {
          "data": {
            "image/png": "[encoded data removed]",
            "text/plain": [
              "<Figure size 432x288 with 2 Axes>"
            ]
          },
          "metadata": {
            "needs_background": "light"
          },
          "output_type": "display_data"
        }
      ]
    },
    {
      "cell_type": "code",
      "metadata": {
        "id": "7ne2PfUlguK9"
      },
      "source": [
        ""
      ],
      "execution_count": null,
      "outputs": []
    }
  ]
}